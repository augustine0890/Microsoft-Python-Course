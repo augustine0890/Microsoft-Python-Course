{
 "cells": [
  {
   "cell_type": "markdown",
   "metadata": {},
   "source": [
    "# Concept: nested conditionals"
   ]
  },
  {
   "cell_type": "markdown",
   "metadata": {},
   "source": [
    "## Cheese or Veggie special?"
   ]
  },
  {
   "cell_type": "code",
   "execution_count": null,
   "metadata": {
    "collapsed": true
   },
   "outputs": [],
   "source": [
    "sandwich_type = input('\"c\" for Cheese or \"v\" for Veggie Special: ')\n",
    "if sandwich_type.lower() == 'c':\n",
    "    # select cheese type\n",
    "    cheese_type = input('\"c\" for Chedder or \"m\" for Manchego: ')\n",
    "    if cheese_type.lower() == \"c\":\n",
    "        print(\"Here is your Chedder Cheese sandwich\")\n",
    "    else:\n",
    "        print(\"Here is your Manchego Cheese sandwich\")\n",
    "else:\n",
    "    print(\"Here is your Veggie Special\")"
   ]
  },
  {
   "cell_type": "markdown",
   "metadata": {},
   "source": [
    "### Example 2"
   ]
  },
  {
   "cell_type": "code",
   "execution_count": null,
   "metadata": {
    "collapsed": true
   },
   "outputs": [],
   "source": [
    "print(\"Hi, welcome to the sandwich shop.  Please select a sandwich.\")\n",
    "sandwich_type = input('\"c\" for Cheese or \"v\" for Veggie Special: ')\n",
    "# select sandwich type sandwich_type = input('\"c\" for Cheese or \"v\" for Veggie Special: ')\n",
    "print()\n",
    "    \n",
    "if sandwich_type.lower() == \"c\":\n",
    "    # select cheese type\n",
    "    print(\"Please select a cheese.\")\n",
    "    cheese_type = input('\"c\" for Cheddar or \"m\" for Manchego: ')\n",
    "    print()\n",
    "    \n",
    "    if cheese_type.lower() == \"c\":\n",
    "        print(\"Here is your Cheddar Cheese sandwich.  Thank you.\")\n",
    "    elif cheese_type.lower() == \"m\":\n",
    "        print(\"Here is your Manchego Cheese sandwich.  Thank you.\") \n",
    "    else:\n",
    "        print(\"Sorry, we don't have\", cheese_type, \"choice today.\")\n",
    "\n",
    "elif sandwich_type.lower() == \"v\":\n",
    "    print(\"Here is your Veggie Special. Thank you.\")\n",
    "        \n",
    "else:\n",
    "    print(\"Sorry, we don't have\", sandwich_type, \"choice today.\")\n",
    "print()\n",
    "print(\"Goodbye!\")"
   ]
  },
  {
   "cell_type": "markdown",
   "metadata": {},
   "source": [
    "## Task 1\n",
    "### Say \"Hello\" flowchart"
   ]
  },
  {
   "cell_type": "code",
   "execution_count": null,
   "metadata": {
    "collapsed": true
   },
   "outputs": [],
   "source": [
    "say_hello = input(\"Say 'Hello': Y-Yes or N-No\")\n",
    "if say_hello.capitalize() == \"Y\":\n",
    "    print(\"Is that a close friend\")\n",
    "    type_friend =  input('Friend: Y for Yes or N for No ')\n",
    "    print()\n",
    "    if type_friend.lower() == \"y\":\n",
    "        print(\"What's up, man.\")\n",
    "    else:\n",
    "        print(\"Hello, nice to meet you.\")\n",
    "elif say_hello.capitalize() == \"N\":\n",
    "    print(\"Ignore that person\")\n",
    "else:\n",
    "    print(\"No one cares\")\n",
    "print()"
   ]
  },
  {
   "cell_type": "markdown",
   "metadata": {},
   "source": [
    "### \"Guess the bird\" program"
   ]
  },
  {
   "cell_type": "code",
   "execution_count": null,
   "metadata": {
    "collapsed": true
   },
   "outputs": [],
   "source": [
    "print(\"Welcome to 'Guess the bird'\")\n",
    "print(\"You have 3 guesses to name the correct bird\")\n",
    "\n",
    "bird_types='crow', 'robin', 'parrot', 'eagle', 'sandpiper', 'hawk', 'pigeon'\n",
    "bird_guess = input(\"What's your first guess? \")\n",
    "if bird_guess.lower() in bird_types:\n",
    "    print(\"Correct!\")\n",
    "else:\n",
    "    print(\"Incorrect, try again\")\n",
    "bird_guess = input(\"What's your second guess? \")\n",
    "if bird_guess.lower() in bird_types:\n",
    "    print(\"Correct!\")\n",
    "else:\n",
    "    print(\"Incorrect again and you have only one guess\")\n",
    "bird_guess = input(\"What's your third guess? \")\n",
    "if bird_guess.lower() in bird_types:\n",
    "    print(\"Perfect! You have 3 times correct gueses contiuously.\")\n",
    "else:\n",
    "    print(\"Incorrect!\")\n",
    "    print(\"Sorry, no more guess for you\")"
   ]
  },
  {
   "cell_type": "markdown",
   "metadata": {},
   "source": [
    "### Example"
   ]
  },
  {
   "cell_type": "code",
   "execution_count": null,
   "metadata": {
    "collapsed": true
   },
   "outputs": [],
   "source": [
    "def greetings():\n",
    "    name = input(\"Enter your name: \")\n",
    "    print(\"Hello!\", name, \"and nice to meet you!\")"
   ]
  },
  {
   "cell_type": "code",
   "execution_count": null,
   "metadata": {
    "collapsed": true
   },
   "outputs": [],
   "source": [
    "greetings()"
   ]
  },
  {
   "cell_type": "code",
   "execution_count": null,
   "metadata": {
    "collapsed": true
   },
   "outputs": [],
   "source": [
    "fruitnames = 'apple', 'organes', 'pears'\n",
    "def buyFruit(fruit, numPounds):\n",
    "    if fruit in fruitnames:\n",
    "        if fruit.lower() == 'apple':\n",
    "            cost = numPounds * 4\n",
    "            print(\"It's cost $\", cost)\n",
    "        elif fruit.lower() == 'organes':\n",
    "            cost = numPounds * 5\n",
    "            print(\"It's cost $\", cost) \n",
    "        elif fruit.lower() == 'pears':\n",
    "            cost = numPounds * 3\n",
    "            print(\"It's cost \", \"$\" + str(cost)) \n",
    "    else:\n",
    "        print(\"Sorry, we don't have\", fruit)"
   ]
  },
  {
   "cell_type": "code",
   "execution_count": null,
   "metadata": {
    "collapsed": true
   },
   "outputs": [],
   "source": [
    "buyFruit('apple',8)"
   ]
  },
  {
   "cell_type": "code",
   "execution_count": null,
   "metadata": {
    "collapsed": true
   },
   "outputs": [],
   "source": [
    "buyFruit('lemon', 2)"
   ]
  },
  {
   "cell_type": "code",
   "execution_count": null,
   "metadata": {
    "collapsed": true
   },
   "outputs": [],
   "source": [
    "buyFruit('pears',7)"
   ]
  },
  {
   "cell_type": "markdown",
   "metadata": {},
   "source": [
    "## Escape Sequences"
   ]
  },
  {
   "cell_type": "code",
   "execution_count": null,
   "metadata": {
    "collapsed": true
   },
   "outputs": [],
   "source": [
    "# review and run example using \\n (new line)\n",
    "print('Hello World!\\nI am formating print')"
   ]
  },
  {
   "cell_type": "code",
   "execution_count": null,
   "metadata": {
    "collapsed": true
   },
   "outputs": [],
   "source": [
    "# review and run code using \\t (tab)\n",
    "student_age = 17\n",
    "student_name = \"Hiroto Yamaguchi\"\n",
    "print(\"STUDENT NAME\\t\\tAGE\")\n",
    "print(student_name, '\\t' + str(student_age))"
   ]
  },
  {
   "cell_type": "code",
   "execution_count": null,
   "metadata": {
    "collapsed": true
   },
   "outputs": [],
   "source": [
    "# review and run code \n",
    "# using \\\" and \\' (escaped quotes)\n",
    "print(\"\\\"quotes in quotes\\\"\")\n",
    "print(\"I\\'ve said \\\"save your notebook,\\\" so let\\'s do it!\")"
   ]
  },
  {
   "cell_type": "code",
   "execution_count": null,
   "metadata": {
    "collapsed": true
   },
   "outputs": [],
   "source": [
    "# using  \\\\ (escaped backslash)\n",
    "print(\"for a newline use \\\\n\")"
   ]
  },
  {
   "cell_type": "code",
   "execution_count": null,
   "metadata": {
    "collapsed": true
   },
   "outputs": [],
   "source": [
    "print(\"One\\tTwo\\tThree\")\n",
    "print(\"Four\\tFive\\tSix\")"
   ]
  },
  {
   "cell_type": "code",
   "execution_count": null,
   "metadata": {
    "collapsed": true
   },
   "outputs": [],
   "source": [
    "def pre_word():\n",
    "    word = input(\"Enter a word that starts with 'pre': \")\n",
    "    if word.isalpha():\n",
    "        if word.startswith(\"pre\"):\n",
    "            return True\n",
    "    else:\n",
    "        return False"
   ]
  },
  {
   "cell_type": "code",
   "execution_count": null,
   "metadata": {
    "collapsed": true
   },
   "outputs": [],
   "source": [
    "pre_word()"
   ]
  },
  {
   "cell_type": "code",
   "execution_count": null,
   "metadata": {
    "collapsed": true
   },
   "outputs": [],
   "source": [
    "pre_word()"
   ]
  },
  {
   "cell_type": "code",
   "execution_count": null,
   "metadata": {
    "collapsed": true
   },
   "outputs": [],
   "source": [
    "print(\"\\\\\\\\\\\\\\\\\")"
   ]
  },
  {
   "cell_type": "markdown",
   "metadata": {},
   "source": [
    "## 'while' loop and incrementing\n",
    "while() loops & increments\n",
    "- __while True or forever loops__\n",
    "- __incrementing in loops__\n",
    "- Boolean operators in while loops"
   ]
  },
  {
   "cell_type": "markdown",
   "metadata": {},
   "source": [
    "### Using the while True: loop\n",
    "__while True:__ is known as the __forever loop__ because it...loop forever\n",
    "### break\n",
    "a __conditional__ can implement __break__ to exit __while True__ loop"
   ]
  },
  {
   "cell_type": "code",
   "execution_count": null,
   "metadata": {
    "collapsed": true
   },
   "outputs": [],
   "source": [
    "while True:\n",
    "    print(\"write forever, unless there is a 'break'\")\n",
    "    break"
   ]
  },
  {
   "cell_type": "code",
   "execution_count": null,
   "metadata": {
    "collapsed": true
   },
   "outputs": [],
   "source": [
    "number_guess = \"0\"\n",
    "secret_number = \"5\"\n",
    "while True:\n",
    "    number_guess = input(\"Guess the number 1 to 5: \")\n",
    "    if number_guess == secret_number:\n",
    "        print(\"Yes,\", number_guess,\"is correct!\\n\")\n",
    "        break\n",
    "    else:\n",
    "        print(number_guess,\"is incorrect\",\"\\nPlease, try again!\\n\")"
   ]
  },
  {
   "cell_type": "code",
   "execution_count": null,
   "metadata": {
    "collapsed": true
   },
   "outputs": [],
   "source": [
    "while True:\n",
    "    weather = input(\"Enter weather (sunny, rainy, snowy, or quit): \")\n",
    "    print()\n",
    "    \n",
    "    if weather.lower() == \"sunny\":\n",
    "        print(\"Wear a T-shirt and sunscreen\")\n",
    "        break\n",
    "    elif weather.lower() == \"rainy\":\n",
    "        print(\"Bring an umbrella and boots\")\n",
    "        break\n",
    "    elif weather.lower() == \"snowy\":\n",
    "        print(\"Wear a warm coat and hat\")\n",
    "        break\n",
    "    elif weather.lower().startswith(\"q\"):\n",
    "        print('\"quit\" detected, exiting')\n",
    "        break\n",
    "    else:\n",
    "        print(\"Sorry, not sure what to suggest for\", weather +\"\\n\")"
   ]
  },
  {
   "cell_type": "markdown",
   "metadata": {},
   "source": [
    "## Incrementing a variable and decrementing"
   ]
  },
  {
   "cell_type": "code",
   "execution_count": null,
   "metadata": {
    "collapsed": true
   },
   "outputs": [],
   "source": [
    "seat_count = 0\n",
    "while True:\n",
    "    print(\"Seat count:\", seat_count)\n",
    "    seat_count = seat_count + 1\n",
    "    if seat_count > 4:\n",
    "        break"
   ]
  },
  {
   "cell_type": "code",
   "execution_count": null,
   "metadata": {
    "collapsed": true
   },
   "outputs": [],
   "source": [
    "seat_count = 4\n",
    "while True:\n",
    "    print(\"Seat count:\", seat_count)\n",
    "    seat_count = seat_count - 1\n",
    "    if seat_count == 0:\n",
    "        print(\"Final remaining seat count: \", seat_count)\n",
    "        break"
   ]
  },
  {
   "cell_type": "code",
   "execution_count": null,
   "metadata": {
    "collapsed": true
   },
   "outputs": [],
   "source": [
    "seat_count = 0\n",
    "soft_seats = 0\n",
    "hard_seats = 0\n",
    "num_seats = 4\n",
    "while True:\n",
    "    seat_type = input(\"Enter seat type of 'hard','soft' or 'exit' (to finish): \")\n",
    "    \n",
    "    if seat_type.lower().startswith(\"e\"):\n",
    "        print()\n",
    "        break\n",
    "    elif seat_type.lower() == \"hard\":\n",
    "        hard_seats += 1\n",
    "    elif seat_type.lower() == \"soft\":\n",
    "        soft_seats += 1\n",
    "    else:\n",
    "        print(\"invalid entry: counted as hard\")\n",
    "        hard_seats += 1\n",
    "    seat_count += 1\n",
    "    if seat_count >= num_seats:\n",
    "        print(\"\\nseats are full\")\n",
    "        break\n",
    "print(seat_count, \"Seats Total: \", hard_seats, \"hard and\", soft_seats, \"soft\")"
   ]
  },
  {
   "cell_type": "markdown",
   "metadata": {},
   "source": [
    "### Task 1\n"
   ]
  },
  {
   "cell_type": "code",
   "execution_count": null,
   "metadata": {
    "collapsed": true
   },
   "outputs": [],
   "source": [
    "size_M = 0\n",
    "size_S = 0\n",
    "size_L = 0\n",
    "num_M = 3\n",
    "num_S = 2\n",
    "num_L = 5\n",
    "while True:\n",
    "    size = input(\"Enter your size (S, M, L): \")\n",
    "    \n",
    "    if size.lower() == \"s\":\n",
    "        size_S += 1\n",
    "    else:\n",
    "        print(\"Please, enter your size correctly.\")\n",
    "    if size_S > num_S:\n",
    "        print(\"The S size is out. Please try another size\")\n",
    "        break\n",
    "while True:\n",
    "    size = input(\"Enter your size (S, M, L): \")\n",
    "          \n",
    "    if size.lower() == \"m\":\n",
    "        size_M += 1\n",
    "    else:\n",
    "        print(\"Please, enter your size correctly.\")\n",
    "    if size_M > num_M:\n",
    "        print(\"The M size is out\")\n",
    "        break\n",
    "while True:\n",
    "    size = input(\"Enter your size (S, M, L): \")\n",
    "            \n",
    "    if size.lower() == \"l\":\n",
    "        size_L += 1\n",
    "    else:\n",
    "        print(\"Please, enter your size correctly.\")\n",
    "    if size_L > num_L:\n",
    "        print(\"The L size is out\")\n",
    "        break\n",
    "    else:\n",
    "        print(\"Sorry, we don't have size for you\")"
   ]
  },
  {
   "cell_type": "code",
   "execution_count": null,
   "metadata": {},
   "outputs": [],
   "source": [
    "num_1 = \"\"\n",
    "num_temp = \"\"\n",
    "num_final = \"\"\n",
    "\n",
    "while True:\n",
    "    num_1 = input(\"Enter an integer: \")\n",
    "    if num_1.isdigit():\n",
    "        num_final = num_temp + num_1\n",
    "        num_temp = num_final\n",
    "    else:\n",
    "        print(num_final)\n",
    "        break"
   ]
  },
  {
   "cell_type": "code",
   "execution_count": null,
   "metadata": {},
   "outputs": [],
   "source": [
    "x = 0 \n",
    "\n",
    "while True:\n",
    "    if x < 10:\n",
    "        print('run forever')\n",
    "        x += 1\n",
    "    else:\n",
    "        break"
   ]
  },
  {
   "cell_type": "code",
   "execution_count": null,
   "metadata": {},
   "outputs": [],
   "source": [
    "time = 3\n",
    "\n",
    "while True:\n",
    "    print('time is', time)\n",
    "    if time == 3:\n",
    "        time = 4\n",
    "    else:\n",
    "        break"
   ]
  },
  {
   "cell_type": "markdown",
   "metadata": {
    "collapsed": true
   },
   "source": [
    "## 'while' Boolean loops\n",
    "### while() loops & increments"
   ]
  },
  {
   "cell_type": "code",
   "execution_count": null,
   "metadata": {},
   "outputs": [],
   "source": [
    "greet_count = 5\n",
    "while greet_count > 0:\n",
    "    print(greet_count, \"!\")\n",
    "    greet_count -= 1\n",
    "print(\"\\nIGNITION!\")"
   ]
  },
  {
   "cell_type": "code",
   "execution_count": null,
   "metadata": {},
   "outputs": [],
   "source": [
    "seat_count = 0\n",
    "while seat_count <= 4:\n",
    "    print(\"seat_count:\", seat_count)\n",
    "    seat_count += 1"
   ]
  },
  {
   "cell_type": "markdown",
   "metadata": {},
   "source": [
    "### while Boolean string test"
   ]
  },
  {
   "cell_type": "code",
   "execution_count": null,
   "metadata": {},
   "outputs": [],
   "source": [
    "student_fname = \"\"\n",
    "while student_fname.isalpha() == False:\n",
    "    student_fname = input(\"Enter student\\'s first (Letters only, No spaces): \")\n",
    "print(\"\\n\" + student_fname.title(), \"has been entered as first name\")"
   ]
  },
  {
   "cell_type": "code",
   "execution_count": null,
   "metadata": {},
   "outputs": [],
   "source": [
    "message = \"hi\"\n",
    "while message.isupper() != True:\n",
    "    message = input(\"Sorry, can\\'t hear, please yell message: \")\n",
    "\n",
    "print('message: \"' + message + '\"received' )"
   ]
  },
  {
   "cell_type": "code",
   "execution_count": null,
   "metadata": {},
   "outputs": [],
   "source": [
    "number = \"\"\n",
    "while number.isdigit() != True:\n",
    "    number = input(\"Enter a positive integer: \")\n",
    "print(number, \"is an integer\")"
   ]
  },
  {
   "cell_type": "code",
   "execution_count": null,
   "metadata": {},
   "outputs": [],
   "source": [
    "count = 1\n",
    "\n",
    "# loop 5 times\n",
    "while count < 6:\n",
    "    print(count, \"x\", count, \"=\", count*count)\n",
    "    count +=1"
   ]
  },
  {
   "cell_type": "code",
   "execution_count": null,
   "metadata": {},
   "outputs": [],
   "source": [
    "count = 1\n",
    "num = 2\n",
    "# loop 5 times\n",
    "while count <= 10:\n",
    "    print(count, \"x\", num, \"=\", count*num)\n",
    "    count +=1"
   ]
  },
  {
   "cell_type": "code",
   "execution_count": null,
   "metadata": {},
   "outputs": [],
   "source": [
    "x = 0 \n",
    "\n",
    "while x < 5:\n",
    "    x += 1\n",
    "    print('loop')\n",
    "    "
   ]
  },
  {
   "cell_type": "markdown",
   "metadata": {},
   "source": [
    "# Final Project Coding Activity\n",
    "## Some Assignment Requirements\n",
    "This program requires the use of\n",
    "- **`while`** loop\n",
    "- **`if, elif, else`**\n",
    "- **`if,else`** (nested)\n",
    "- **casting** of type, between strings and numbers"
   ]
  },
  {
   "cell_type": "code",
   "execution_count": null,
   "metadata": {},
   "outputs": [],
   "source": [
    "def adding_report(report=\"T\"):\n",
    "    while True:\n",
    "        x = input(\"Enter the input integer or 'Quit': \")\n",
    "        Total = 0\n",
    "        if x.isdigit() == True:\n",
    "            Total = int(x) + Total\n",
    "        if report == \"A\":\n",
    "            print(\"Items\\n\", str(x), \"\\nTotal\\n\", Total)\n",
    "        elif report == \"T\":\n",
    "            print(\"Total\\n\",  Total)\n",
    "        elif x.lower().isalpha() == True:\n",
    "            print(x, \"is invalid input\")\n",
    "        elif x.upper().startswith(\"Q\"):\n",
    "            print(x)\n",
    "            print(total)\n",
    "            break\n",
    "        break"
   ]
  },
  {
   "cell_type": "code",
   "execution_count": null,
   "metadata": {},
   "outputs": [],
   "source": [
    "adding_report(\"A\")"
   ]
  },
  {
   "cell_type": "code",
   "execution_count": 2,
   "metadata": {},
   "outputs": [
    {
     "name": "stdout",
     "output_type": "stream",
     "text": [
      "This program adds a sequence of integers and produces two types of reports.\n",
      "Report A: Prompts for a sequence of integers and outputs the concatenated sequence and total.\n",
      "Report B: Prompts for a sequence of integers and output only the total.\n",
      "\n",
      "Which report type do you prefer [A, T, or Q to quit]? A\n",
      "Input an integer to add to the total or \"Q\" to quit: 5\n",
      "Enter an integer or \"Q\" to quit: 6\n",
      "Enter an integer or \"Q\" to quit: 4\n",
      "Enter an integer or \"Q\" to quit: 4\n",
      "Enter an integer or \"Q\" to quit: 6\n",
      "Enter an integer or \"Q\" to quit: q\n",
      "Invalid input\n",
      "Enter an integer or \"Q\" to quit: Q\n",
      "\n",
      "Items\n",
      "5\n",
      "6\n",
      "4\n",
      "4\n",
      "6\n",
      "\n",
      "\n",
      "Total\n",
      "25\n",
      "\n",
      "Which report type do you prefer [A, T, or Q to quit]? Q\n",
      "Bye!\n"
     ]
    }
   ],
   "source": [
    "\n",
    "def adding_report (report_type):\n",
    "    total = 0\n",
    "    items = \"\"\n",
    "    \n",
    "    string = input ('Input an integer to add to the total or \"Q\" to quit: ')\n",
    "    while True:\n",
    "        if string.isdigit ():\n",
    "            total += int (string)\n",
    "            if report_type == \"A\":\n",
    "                items = items + string + \"\\n\"\n",
    "        elif string.startswith (\"Q\"):\n",
    "            if report_type == \"A\":\n",
    "                print (\"\\nItems\\n\" + items + \"\\n\" + \"\\nTotal\\n\" + str(total))\n",
    "            elif report_type == \"T\":\n",
    "                print (\"\\nTotal\\n\" + str(total))\n",
    "            break\n",
    "        else:\n",
    "            print (\"Invalid input\")\n",
    "        \n",
    "        string = input ('Enter an integer or \"Q\" to quit: ')\n",
    "\n",
    "print (\"This program adds a sequence of integers and produces two types of reports.\")\n",
    "print (\"Report A: Prompts for a sequence of integers and outputs the concatenated sequence and total.\")\n",
    "print (\"Report B: Prompts for a sequence of integers and output only the total.\\n\")\n",
    "\n",
    "report_type = input (\"Which report type do you prefer [A, T, or Q to quit]? \")\n",
    "while report_type != \"Q\":\n",
    "    if report_type in \"A T\":\n",
    "        adding_report (report_type)\n",
    "    else:\n",
    "        print (\"ERROR: Try again!\\n\")\n",
    "    report_type = input (\"\\nWhich report type do you prefer [A, T, or Q to quit]? \")\n",
    "    \n",
    "print (\"Bye!\")"
   ]
  },
  {
   "cell_type": "code",
   "execution_count": null,
   "metadata": {
    "collapsed": true
   },
   "outputs": [],
   "source": []
  }
 ],
 "metadata": {
  "kernelspec": {
   "display_name": "Python 3",
   "language": "python",
   "name": "python3"
  },
  "language_info": {
   "codemirror_mode": {
    "name": "ipython",
    "version": 3
   },
   "file_extension": ".py",
   "mimetype": "text/x-python",
   "name": "python",
   "nbconvert_exporter": "python",
   "pygments_lexer": "ipython3",
   "version": "3.6.0"
  }
 },
 "nbformat": 4,
 "nbformat_minor": 2
}
