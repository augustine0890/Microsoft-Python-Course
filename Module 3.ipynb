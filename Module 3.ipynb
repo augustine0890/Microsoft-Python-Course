{
 "cells": [
  {
   "cell_type": "markdown",
   "metadata": {},
   "source": [
    "# Conditionals\n",
    "- if\n",
    "- else\n",
    "    - pass"
   ]
  },
  {
   "cell_type": "code",
   "execution_count": null,
   "metadata": {
    "collapsed": true
   },
   "outputs": [],
   "source": [
    "if True:\n",
    "    print(\"True means do something\")\n",
    "else:\n",
    "    print(\"Not True means do something else\")"
   ]
  },
  {
   "cell_type": "code",
   "execution_count": null,
   "metadata": {
    "collapsed": true
   },
   "outputs": [],
   "source": [
    "hot_tea = True\n",
    "if hot_tea:\n",
    "    print(\"enjoy some hot tea\")\n",
    "else:\n",
    "    print(\"enjoy some tea, and perhaps try hot tea next time.\")"
   ]
  },
  {
   "cell_type": "code",
   "execution_count": null,
   "metadata": {
    "collapsed": true
   },
   "outputs": [],
   "source": [
    "if True:\n",
    "    print(\"This print if statement after 'if' is True\")\n",
    "else:\n",
    "    print(\"This prints if statement is Not True\")"
   ]
  },
  {
   "cell_type": "code",
   "execution_count": null,
   "metadata": {
    "collapsed": true
   },
   "outputs": [],
   "source": [
    "if not True:\n",
    "    print(\"This print if statement after 'if' is True\")\n",
    "else:\n",
    "    print(\"This prints if statement is Not True\")"
   ]
  },
  {
   "cell_type": "code",
   "execution_count": null,
   "metadata": {
    "collapsed": true
   },
   "outputs": [],
   "source": [
    "someone_I_know = True\n",
    "if someone_I_know:\n",
    "    print(\"how have you been?\")\n",
    "else:\n",
    "    print(\"nice to meet you\")"
   ]
  },
  {
   "cell_type": "code",
   "execution_count": null,
   "metadata": {
    "collapsed": true
   },
   "outputs": [],
   "source": [
    "someone_I_know = False\n",
    "if someone_I_know:\n",
    "    print(\"how have you been?\")\n",
    "else:\n",
    "    pass"
   ]
  },
  {
   "cell_type": "markdown",
   "metadata": {},
   "source": [
    "## Task 1\n"
   ]
  },
  {
   "cell_type": "code",
   "execution_count": null,
   "metadata": {
    "collapsed": true
   },
   "outputs": [],
   "source": [
    "sunny_today = True\n",
    "if sunny_today:\n",
    "    print(\"today is sunny\")\n",
    "else:\n",
    "    print(\"It's no sunny today\")"
   ]
  },
  {
   "cell_type": "markdown",
   "metadata": {},
   "source": [
    "# Conditional with Boolean String Methods\n",
    "if student_name.isalpha():\n",
    "- .isalnum()\n",
    "- .istitle()\n",
    "- .isdigit()\n",
    "- .islower()\n",
    "- .startswith()"
   ]
  },
  {
   "cell_type": "code",
   "execution_count": null,
   "metadata": {
    "collapsed": true
   },
   "outputs": [],
   "source": [
    "favorite_book = input(\"Enter the title of a favorite book: \")\n",
    "if favorite_book.istitle():\n",
    "    print(favorite_book, \"- nice capitalization in that title!\")\n",
    "else:\n",
    "    print(favorite_book, \"- Tip: capitalize each word for book titles.\")"
   ]
  },
  {
   "cell_type": "code",
   "execution_count": null,
   "metadata": {
    "collapsed": true
   },
   "outputs": [],
   "source": [
    "a_number = input(\"enter a positive integer number: \")\n",
    "\n",
    "if a_number.isdigit():\n",
    "    print(a_number, \"is a positive integer\")\n",
    "else:\n",
    "    print(a_number, \"is not a positive integer\")\n",
    "# another if\n",
    "if a_number.isalpha():\n",
    "    print(a_number, \"is more like a word\")\n",
    "else:\n",
    "    pass"
   ]
  },
  {
   "cell_type": "code",
   "execution_count": null,
   "metadata": {
    "collapsed": true
   },
   "outputs": [],
   "source": [
    "vehicle_type = input(\"enter a type of vehicle that starts with 'P': \")\n",
    "if vehicle_type.upper().startswith(\"P\"):\n",
    "    print(vehicle_type, \"starts with 'P'\")\n",
    "else:\n",
    "    print(vehicle_type, \"does not start with 'P'\")"
   ]
  },
  {
   "cell_type": "markdown",
   "metadata": {},
   "source": [
    "## Task 2"
   ]
  },
  {
   "cell_type": "code",
   "execution_count": null,
   "metadata": {
    "collapsed": true
   },
   "outputs": [],
   "source": [
    "# Create evaluations for .islower()\n",
    "test_string_1 = \"welcome\"\n",
    "test_string_2 = \"I have $3\"\n",
    "if test_string_1.islower() and test_string_2.islower():\n",
    "    print(\"Both string are lower\")\n",
    "else:\n",
    "    print(\"Not\")"
   ]
  },
  {
   "cell_type": "code",
   "execution_count": null,
   "metadata": {
    "collapsed": true
   },
   "outputs": [],
   "source": [
    "test_string_1 = \"welcome\"\n",
    "test_string_2 = \"I have $3\"\n",
    "if test_string_1.islower() or test_string_2.islower():\n",
    "    print(\"One of strings is lower\")\n",
    "else:\n",
    "    print(\"Not\")"
   ]
  },
  {
   "cell_type": "code",
   "execution_count": null,
   "metadata": {
    "collapsed": true
   },
   "outputs": [],
   "source": [
    "test_string_1 = \"welcome\"\n",
    "test_string_2 = \"I have $3\"\n",
    "test_string_3 = \"With a function it's efficient to reepeat code\"\n",
    "def w_start_test(test_string):\n",
    "    if test_string.startswith(\"W\"):\n",
    "        print(test_string, \": This string starts with 'W' \")\n",
    "    else:\n",
    "        print(test_string, \": Not starts with 'W' \")\n",
    "w_start_test(test_string_1)\n",
    "w_start_test(test_string_2)\n",
    "w_start_test(test_string_3)"
   ]
  },
  {
   "cell_type": "code",
   "execution_count": null,
   "metadata": {
    "collapsed": true
   },
   "outputs": [],
   "source": [
    "year = \"2001\" \n",
    "\n",
    "if year.isdigit():\n",
    "    print(year, \"is all digits\")  \n",
    "else:\n",
    "   pass\n",
    "type(year)"
   ]
  },
  {
   "cell_type": "code",
   "execution_count": null,
   "metadata": {
    "collapsed": true
   },
   "outputs": [],
   "source": [
    "test = \"character\"\n",
    "test.isdigit()"
   ]
  },
  {
   "cell_type": "markdown",
   "metadata": {},
   "source": [
    "## Comparison operators\n",
    "### Assign vs. Compare"
   ]
  },
  {
   "cell_type": "code",
   "execution_count": null,
   "metadata": {
    "collapsed": true
   },
   "outputs": [],
   "source": [
    "# assign points equal to 3\n",
    "points = 0\n",
    "# test if points is equal to\n",
    "points == 9\n"
   ]
  },
  {
   "cell_type": "markdown",
   "metadata": {},
   "source": [
    "### Not Equal !="
   ]
  },
  {
   "cell_type": "code",
   "execution_count": null,
   "metadata": {
    "collapsed": true
   },
   "outputs": [],
   "source": [
    "x = 3\n",
    "print(\"x not equal 9 is\", x != 9)\n",
    "print(\"x equal 3 is\", x == 3)"
   ]
  },
  {
   "cell_type": "markdown",
   "metadata": {},
   "source": [
    "### Task 1"
   ]
  },
  {
   "cell_type": "code",
   "execution_count": null,
   "metadata": {
    "collapsed": true
   },
   "outputs": [],
   "source": [
    "x = 4 + 9\n",
    "print(\" x equal 13 is\", x == 13)\n",
    "print(\"3 + 3 is greater than 2 + 4\", 3 + 3 > 2 + 4)"
   ]
  },
  {
   "cell_type": "markdown",
   "metadata": {},
   "source": [
    "## if comparison\n"
   ]
  },
  {
   "cell_type": "code",
   "execution_count": null,
   "metadata": {
    "collapsed": true
   },
   "outputs": [],
   "source": [
    "x = 23\n",
    "if x > 25:\n",
    "    print(\"x is already greater than 25\")\n",
    "else:\n",
    "    print(\"x was\", x)\n",
    "    x = 26\n",
    "    print(\"now x is\", x)"
   ]
  },
  {
   "cell_type": "code",
   "execution_count": null,
   "metadata": {
    "collapsed": true
   },
   "outputs": [],
   "source": [
    "x = 26\n",
    "if x > 25:\n",
    "    print(\"x is already greater than 25\")\n",
    "else:\n",
    "    print(\"x was\", x)\n",
    "    x = 26\n",
    "    print(\"now x is\", x)"
   ]
  },
  {
   "cell_type": "code",
   "execution_count": null,
   "metadata": {
    "collapsed": true
   },
   "outputs": [],
   "source": [
    "position = 19\n",
    "trap_value = 18\n",
    "if position != trap_value:\n",
    "    print(\"...keep playing!\")\n",
    "else:\n",
    "    print('Position is', trap_value, \"...GAME OVER!\")"
   ]
  },
  {
   "cell_type": "code",
   "execution_count": null,
   "metadata": {
    "collapsed": true
   },
   "outputs": [],
   "source": [
    "position = 19\n",
    "trap_value = 19\n",
    "if position != trap_value:\n",
    "    print(\"...keep playing!\")\n",
    "else:\n",
    "    print('Position is', trap_value, \"...GAME OVER!\")"
   ]
  },
  {
   "cell_type": "code",
   "execution_count": null,
   "metadata": {
    "collapsed": true
   },
   "outputs": [],
   "source": [
    "x = 2\n",
    "if x == 2:\n",
    "    print('\"==\" test for, \"is equal to\"')\n",
    "else:\n",
    "    pass"
   ]
  },
  {
   "cell_type": "code",
   "execution_count": null,
   "metadata": {
    "collapsed": true
   },
   "outputs": [],
   "source": [
    "x = 6\n",
    "y = 8\n",
    "if y >= x + x:\n",
    "    print(\"y greater than or equal x + x is\")\n",
    "else:\n",
    "    print(\" y less than x + x\")\n",
    "    "
   ]
  },
  {
   "cell_type": "code",
   "execution_count": null,
   "metadata": {
    "collapsed": true
   },
   "outputs": [],
   "source": [
    "assignment = 25\n",
    "\n",
    "if assignment == 25:\n",
    "    print('use \"=\" to assign values')\n",
    "else:\n",
    "    pass"
   ]
  },
  {
   "cell_type": "markdown",
   "metadata": {},
   "source": [
    "## String Comparison\n",
    "- __Strings can be equal == or unequal !=__\n",
    "\n",
    "- __Strings can be greater than > or less than < __\n",
    "\n",
    "- __alphabetically \"A\" is less than \"B\"__\n",
    "\n",
    "- __lower case \"a\" is greater than upper case \"A\"__"
   ]
  },
  {
   "cell_type": "code",
   "execution_count": null,
   "metadata": {
    "collapsed": true
   },
   "outputs": [],
   "source": [
    "# review and run code\n",
    "\"hello\" < \"Hello\""
   ]
  },
  {
   "cell_type": "code",
   "execution_count": null,
   "metadata": {
    "collapsed": true
   },
   "outputs": [],
   "source": [
    "\"Aardvark\" < \"Zebra\""
   ]
  },
  {
   "cell_type": "code",
   "execution_count": null,
   "metadata": {
    "collapsed": true
   },
   "outputs": [],
   "source": [
    "'student' != 'Student'"
   ]
  },
  {
   "cell_type": "code",
   "execution_count": null,
   "metadata": {
    "collapsed": true
   },
   "outputs": [],
   "source": [
    "print(\"'student' >= 'Student' is\", 'student' >= 'Student')\n",
    "print(\"'student' != 'Student' is\", 'student' != 'Student')"
   ]
  },
  {
   "cell_type": "code",
   "execution_count": null,
   "metadata": {
    "collapsed": true
   },
   "outputs": [],
   "source": [
    "msg = \"Hello\"\n",
    "msg == \"Hello\""
   ]
  },
  {
   "cell_type": "code",
   "execution_count": null,
   "metadata": {
    "collapsed": true
   },
   "outputs": [],
   "source": [
    "greeting = \"Hello\"\n",
    "msg = input('Say something: ')\n",
    "print('msg string equals greeting is: ', greeting == msg)"
   ]
  },
  {
   "cell_type": "markdown",
   "metadata": {},
   "source": [
    "### __if__\n",
    "\n",
    "### __using String Comparisons__"
   ]
  },
  {
   "cell_type": "code",
   "execution_count": null,
   "metadata": {
    "collapsed": true
   },
   "outputs": [],
   "source": [
    "msg = \"Save the notebook\"\n",
    "if msg == \"save the notebook\":\n",
    "    print(\"message as expected\")\n",
    "else:\n",
    "    print(\"message not as expected\")"
   ]
  },
  {
   "cell_type": "code",
   "execution_count": null,
   "metadata": {
    "collapsed": true
   },
   "outputs": [],
   "source": [
    "msg = \"Save the notebook\"\n",
    "prediction = \"save the notebook\"\n",
    "if msg.lower() == prediction.lower():\n",
    "    print(\"message as expected\")"
   ]
  },
  {
   "cell_type": "code",
   "execution_count": null,
   "metadata": {
    "collapsed": true
   },
   "outputs": [],
   "source": [
    "l_name = input(\"enter last name: \")\n",
    "if l_name.lower() <= \"c\":\n",
    "    print(\"Welcome to the a, b, c line\")\n",
    "else:\n",
    "    print(\"sorry, this is only for a, b, c\")"
   ]
  },
  {
   "cell_type": "markdown",
   "metadata": {},
   "source": [
    "### Task 2"
   ]
  },
  {
   "cell_type": "code",
   "execution_count": null,
   "metadata": {
    "collapsed": true
   },
   "outputs": [],
   "source": [
    "answer = input(\"What is 8 + 13\")\n",
    "if answer == \"21\":\n",
    "    print(answer, \"is the correct answer\")\n",
    "else:\n",
    "    print(answer, \"is the wrong answer\")"
   ]
  },
  {
   "cell_type": "markdown",
   "metadata": {},
   "source": [
    "### Task 3\n"
   ]
  },
  {
   "cell_type": "code",
   "execution_count": null,
   "metadata": {
    "collapsed": true
   },
   "outputs": [],
   "source": [
    "def tf_quiz (question, user_answer):\n",
    "    quiz_question = input (\"T/F \" + question + \":\")\n",
    "    if quiz_question.lower() == user_answer.lower():\n",
    "        return (\"correct\")\n",
    "    else:\n",
    "        return (\"incorrect\")"
   ]
  },
  {
   "cell_type": "code",
   "execution_count": null,
   "metadata": {
    "collapsed": true
   },
   "outputs": [],
   "source": [
    "quiz_eval = tf_quiz(\"Octopuses have three hearts\", \"t\")\n",
    "print (\"your answer is\", quiz_eval)"
   ]
  },
  {
   "cell_type": "code",
   "execution_count": null,
   "metadata": {
    "collapsed": true
   },
   "outputs": [],
   "source": [
    "day = \"monday\"\n",
    "if day.capitalize() == \"Monday\":\n",
    "    print(\"Start the week!\")\n",
    "else:\n",
    "    pass"
   ]
  },
  {
   "cell_type": "code",
   "execution_count": null,
   "metadata": {
    "collapsed": true
   },
   "outputs": [],
   "source": [
    "print(day.capitalize())\n",
    "print(day.upper())"
   ]
  },
  {
   "cell_type": "code",
   "execution_count": null,
   "metadata": {
    "collapsed": true
   },
   "outputs": [],
   "source": [
    "name = \"Jin Xu\"\n",
    "\n",
    "if type(name) == type(\"Hello\"):\n",
    "    print(name, \"is a string entry\")\n",
    "else:\n",
    "    print(name, \"is not a string entry\")"
   ]
  },
  {
   "cell_type": "markdown",
   "metadata": {},
   "source": [
    "## elif\n",
    "__using String Comparisons__"
   ]
  },
  {
   "cell_type": "code",
   "execution_count": null,
   "metadata": {
    "collapsed": true
   },
   "outputs": [],
   "source": [
    "weather = input(\"Enter weather (sunny, rainy, snowy): \")\n",
    "if weather.lower() == \"sunny\":\n",
    "    print(\"Wear a T-shirt\")\n",
    "elif weather.lower() == \"rainy\":\n",
    "    print(\"Bring an umbrella and boots\")\n",
    "elif weather.lower() == \"snowy\":\n",
    "    print(\"Wear a warm coat and hat\")\n",
    "else:\n",
    "    print(\"You can do whatever you want for\", weather)"
   ]
  },
  {
   "cell_type": "code",
   "execution_count": null,
   "metadata": {
    "collapsed": true
   },
   "outputs": [],
   "source": [
    "secret_num = \"2\"\n",
    "guess = input(\"Enter a guess for the secret number (1,2,3): \")\n",
    "if guess.isdigit() == False:\n",
    "    print(\"Invalid: guess should only use digits\")\n",
    "elif guess == \"1\":\n",
    "    print(\"Guess is too low\")\n",
    "elif guess == secret_num:\n",
    "    print(\"Guess is right\")\n",
    "elif guess == \"3\":\n",
    "    print(\"Guess is too high\")\n",
    "else:\n",
    "    print(guess, \"is not a vaild guess (1-3)\")"
   ]
  },
  {
   "cell_type": "markdown",
   "metadata": {},
   "source": [
    "## Task 1\n"
   ]
  },
  {
   "cell_type": "code",
   "execution_count": null,
   "metadata": {
    "collapsed": true
   },
   "outputs": [],
   "source": [
    "size = input(\"Enter your size (S, M, L): \")\n",
    "if size.lower() == \"s\":\n",
    "    print(\"The price is $ 6\")\n",
    "elif size.lower() == \"m\":\n",
    "    print(\"The price is $ 7\")\n",
    "elif size.lower() == \"l\":\n",
    "    print(\"The price is $ 8\")\n",
    "else:\n",
    "    print(size, \"is not available\")"
   ]
  },
  {
   "cell_type": "markdown",
   "metadata": {},
   "source": [
    "## Casting\n",
    "__int(), str(), float()__\n"
   ]
  },
  {
   "cell_type": "code",
   "execution_count": null,
   "metadata": {
    "collapsed": true
   },
   "outputs": [],
   "source": [
    "weight1 = \"60\"\n",
    "weight2 = 170\n",
    "# add  2 integers\n",
    "total_weight = int(weight1) + weight2\n",
    "print(total_weight)"
   ]
  },
  {
   "cell_type": "code",
   "execution_count": null,
   "metadata": {},
   "outputs": [],
   "source": [
    "# add floats\n",
    "age_student = input(\"Enter age: \")\n",
    "if age_student.isalpha():\n",
    "    print(\"Enter the digit number, please.\")\n",
    "else:\n",
    "    grad_age = float(age_student) + 3.75\n",
    "    print(\"Age upon graduation will be\",grad_age)"
   ]
  },
  {
   "cell_type": "markdown",
   "metadata": {
    "collapsed": true
   },
   "source": [
    "## Task 2\n"
   ]
  },
  {
   "cell_type": "code",
   "execution_count": null,
   "metadata": {},
   "outputs": [],
   "source": [
    "str_num_1 = \"11\"\n",
    "str_num_2 = \"15\"\n",
    "int_num_3 = 10\n",
    "print(int(str_num_1) + int(str_num_2) + int_num_3)"
   ]
  },
  {
   "cell_type": "code",
   "execution_count": null,
   "metadata": {},
   "outputs": [],
   "source": [
    "print(str_num_1 + str_num_2 + str(int_num_3))"
   ]
  },
  {
   "cell_type": "code",
   "execution_count": null,
   "metadata": {},
   "outputs": [],
   "source": [
    "student_age = input(\"Enter student age (integer): \")\n",
    "age_next_year = int(student_age) + 1\n",
    "print(\"Next year student will be:\", age_next_year, \"years old\")"
   ]
  },
  {
   "cell_type": "code",
   "execution_count": null,
   "metadata": {},
   "outputs": [],
   "source": [
    "# Program: adding calculator\n",
    "number_1 = input(\"Enter the number one: \")\n",
    "number_2 = input(\"Enter the number two: \")\n",
    "adding_calculator = int(number_1) + int(number_2)\n",
    "print(\"The result of adding two numbers:\", adding_calculator)"
   ]
  },
  {
   "cell_type": "code",
   "execution_count": null,
   "metadata": {},
   "outputs": [],
   "source": [
    "size_num = \"8 9 10\"\n",
    "\n",
    "size = input(\"Enter the size\") # user input\n",
    "\n",
    "if size.isdigit() == False:\n",
    "    print(\"Invalid: size should only use digits\")\n",
    "elif int(size) < 8:\n",
    "    print(\"size is too low\")\n",
    "elif size in size_num:\n",
    "    print(\"size is recorded\")\n",
    "else:\n",
    "    print(\"size is too high\")"
   ]
  },
  {
   "cell_type": "markdown",
   "metadata": {},
   "source": [
    "## Basic math operators"
   ]
  },
  {
   "cell_type": "code",
   "execution_count": null,
   "metadata": {},
   "outputs": [],
   "source": [
    "# Million maker\n",
    "def million_maker():\n",
    "    make_big = input(\"Enter a non-decimal number you wish were bigger: \")\n",
    "    return int(make_big)*1000000\n",
    "print(\"Now you have\", million_maker())"
   ]
  },
  {
   "cell_type": "code",
   "execution_count": null,
   "metadata": {},
   "outputs": [],
   "source": [
    "def multiply(st_number, nd_number):\n",
    "    multiply_calculator = int(st_number)*int(nd_number)\n",
    "    print(\"The result of multiphy two numbers:\", multiply_calculator)"
   ]
  },
  {
   "cell_type": "code",
   "execution_count": null,
   "metadata": {},
   "outputs": [],
   "source": [
    "multiply(22,32)"
   ]
  },
  {
   "cell_type": "code",
   "execution_count": null,
   "metadata": {},
   "outputs": [],
   "source": [
    "student_name = input(\"Enter name: \").capitalize()\n",
    "if student_name.startswith(\"A\"):\n",
    "    print(student_name, \"Congratulations, names staring with 'A' get to go first today!\")\n",
    "elif student_name.startswith(\"B\"):\n",
    "    print(student_name, \"Congratulations, names staring with 'B' get to go second today!\")\n",
    "else:\n",
    "    print(student_name, \"Please wait for student with names staring with 'A' and 'B' to go first today.\")"
   ]
  },
  {
   "cell_type": "code",
   "execution_count": null,
   "metadata": {},
   "outputs": [],
   "source": [
    "about_pet = input(\"Enter the pet: \")\n",
    "if about_pet == \"dog\":\n",
    "    print(\"Ah, a dog\")\n",
    "if about_pet == \"cat\":\n",
    "    print(\"Ah, a cat\")\n",
    "print(about_pet.capitalize(), \"is a nice pet\", \"\\nThank you for your story\")\n",
    "    "
   ]
  },
  {
   "cell_type": "markdown",
   "metadata": {},
   "source": [
    "## Program: Cheese Order\n",
    "- Set values for maximum and minimum order variables\n",
    "- Set values for price variable\n",
    "- Get order_amount input and cast to a number\n",
    "- Check order_amount and give message checking against\n",
    "    - over maximum\n",
    "    - under minimum\n",
    "- else within maximum and minimum give message with calculated price"
   ]
  },
  {
   "cell_type": "code",
   "execution_count": 1,
   "metadata": {},
   "outputs": [],
   "source": [
    "def cheese_order():\n",
    "    order_amount = input(\"Enter cheese order weight: \")\n",
    "    if float(order_amount) >= 113:\n",
    "        print(float(order_amount), \"is more than currently available stock\")\n",
    "    elif float(order_amount) <= .15:\n",
    "        print(float(order_amount), \"is below minium order amount\")\n",
    "    else:\n",
    "        print(float(order_amount), \"costs\", \"$\", float(order_amount)*7.99)"
   ]
  },
  {
   "cell_type": "code",
   "execution_count": 2,
   "metadata": {},
   "outputs": [
    {
     "name": "stdout",
     "output_type": "stream",
     "text": [
      "Enter cheese order weight: 4\n",
      "4.0 costs $ 31.96\n"
     ]
    }
   ],
   "source": [
    "cheese_order()"
   ]
  },
  {
   "cell_type": "code",
   "execution_count": null,
   "metadata": {
    "collapsed": true
   },
   "outputs": [],
   "source": []
  }
 ],
 "metadata": {
  "kernelspec": {
   "display_name": "Python 3",
   "language": "python",
   "name": "python3"
  },
  "language_info": {
   "codemirror_mode": {
    "name": "ipython",
    "version": 3
   },
   "file_extension": ".py",
   "mimetype": "text/x-python",
   "name": "python",
   "nbconvert_exporter": "python",
   "pygments_lexer": "ipython3",
   "version": "3.6.0"
  }
 },
 "nbformat": 4,
 "nbformat_minor": 2
}
