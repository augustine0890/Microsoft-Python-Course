{
 "cells": [
  {
   "cell_type": "markdown",
   "metadata": {},
   "source": [
    "# Module 2 Functions\n",
    "## Calling Functions with Arguments"
   ]
  },
  {
   "cell_type": "code",
   "execution_count": 1,
   "metadata": {},
   "outputs": [
    {
     "name": "stdout",
     "output_type": "stream",
     "text": [
      "Hello World! I am sending string arguments to print \n",
      "Hiroto Yamaguchi will be in the class for 17 year old students.\n"
     ]
    }
   ],
   "source": [
    "print('Hello World!', 'I am sending string arguments to print ')\n",
    "student_age = 17\n",
    "student_name = \"Hiroto Yamaguchi\"\n",
    "print(student_name,'will be in the class for',student_age, 'year old students.')"
   ]
  },
  {
   "cell_type": "markdown",
   "metadata": {},
   "source": [
    "## Create simple function\n",
    "- def\n",
    "- function name\n",
    "- parenthesis, followed by colon"
   ]
  },
  {
   "cell_type": "code",
   "execution_count": 2,
   "metadata": {},
   "outputs": [
    {
     "name": "stdout",
     "output_type": "stream",
     "text": [
      "Hello there!\n",
      "goodbye\n"
     ]
    }
   ],
   "source": [
    "def say_hi():\n",
    "    print(\"Hello there!\")\n",
    "    print(\"goodbye\")\n",
    "say_hi()"
   ]
  },
  {
   "cell_type": "code",
   "execution_count": 3,
   "metadata": {
    "collapsed": true
   },
   "outputs": [],
   "source": [
    "def three_3_function():\n",
    "    print(33)"
   ]
  },
  {
   "cell_type": "code",
   "execution_count": 4,
   "metadata": {},
   "outputs": [
    {
     "name": "stdout",
     "output_type": "stream",
     "text": [
      "33\n"
     ]
    }
   ],
   "source": [
    "three_3_function()"
   ]
  },
  {
   "cell_type": "code",
   "execution_count": 5,
   "metadata": {
    "collapsed": true
   },
   "outputs": [],
   "source": [
    "def yell_it():\n",
    "    phrase = input(\"Enter the phrase: \")\n",
    "    print(phrase.upper()+\"!\")"
   ]
  },
  {
   "cell_type": "code",
   "execution_count": 6,
   "metadata": {},
   "outputs": [
    {
     "name": "stdout",
     "output_type": "stream",
     "text": [
      "Enter the phrase: Augustine\n",
      "AUGUSTINE!\n"
     ]
    }
   ],
   "source": [
    "yell_it()"
   ]
  },
  {
   "cell_type": "markdown",
   "metadata": {},
   "source": [
    "## Function parameters"
   ]
  },
  {
   "cell_type": "code",
   "execution_count": 7,
   "metadata": {},
   "outputs": [
    {
     "name": "stdout",
     "output_type": "stream",
     "text": [
      "Hello\n"
     ]
    }
   ],
   "source": [
    "def say_this(phrase):\n",
    "    print(phrase)\n",
    "    \n",
    "say_this(\"Hello\")"
   ]
  },
  {
   "cell_type": "code",
   "execution_count": 8,
   "metadata": {},
   "outputs": [
    {
     "name": "stdout",
     "output_type": "stream",
     "text": [
      "GOOD MORMING!\n"
     ]
    }
   ],
   "source": [
    "def yell_this(phrase):\n",
    "    print(phrase.upper()+ \"!\")\n",
    "\n",
    "yell_this(\"good morming\")"
   ]
  },
  {
   "cell_type": "code",
   "execution_count": 9,
   "metadata": {},
   "outputs": [
    {
     "name": "stdout",
     "output_type": "stream",
     "text": [
      "GOOD MORMING!\n",
      "GOOD NIGHT!\n"
     ]
    }
   ],
   "source": [
    "def yell_this(phrase = \"good night\"):\n",
    "    print(phrase.upper()+ \"!\")\n",
    "\n",
    "yell_this(\"good morming\")\n",
    "yell_this()"
   ]
  },
  {
   "cell_type": "code",
   "execution_count": 10,
   "metadata": {},
   "outputs": [
    {
     "name": "stdout",
     "output_type": "stream",
     "text": [
      "20\n"
     ]
    }
   ],
   "source": [
    "def add_num(num_1 = 10):\n",
    "    print(num_1 + num_1)\n",
    "add_num()"
   ]
  },
  {
   "cell_type": "markdown",
   "metadata": {},
   "source": [
    "# Function with Return Value\n",
    "__return__ keyword in a function return a value after exiting the function"
   ]
  },
  {
   "cell_type": "code",
   "execution_count": 11,
   "metadata": {},
   "outputs": [
    {
     "name": "stdout",
     "output_type": "stream",
     "text": [
      "let's go let's go\n"
     ]
    }
   ],
   "source": [
    "def msg_double(phrase):\n",
    "    double = phrase + \" \" + phrase\n",
    "    return double\n",
    "msg_2x = msg_double(\"let's go\")\n",
    "print(msg_2x)"
   ]
  },
  {
   "cell_type": "code",
   "execution_count": 12,
   "metadata": {},
   "outputs": [
    {
     "name": "stdout",
     "output_type": "stream",
     "text": [
      "21.0\n"
     ]
    }
   ],
   "source": [
    "def half_value(value):\n",
    "    return value/2\n",
    "\n",
    "print(half_value(42))"
   ]
  },
  {
   "cell_type": "code",
   "execution_count": 13,
   "metadata": {},
   "outputs": [
    {
     "name": "stdout",
     "output_type": "stream",
     "text": [
      "Save Now! Save Now!\n"
     ]
    }
   ],
   "source": [
    "print(msg_double(\"Save Now!\"))"
   ]
  },
  {
   "cell_type": "code",
   "execution_count": 14,
   "metadata": {},
   "outputs": [
    {
     "data": {
      "text/plain": [
       "str"
      ]
     },
     "execution_count": 14,
     "metadata": {},
     "output_type": "execute_result"
    }
   ],
   "source": [
    "type(msg_double(\"Save Now!\"))"
   ]
  },
  {
   "cell_type": "code",
   "execution_count": 15,
   "metadata": {},
   "outputs": [
    {
     "name": "stdout",
     "output_type": "stream",
     "text": [
      "Enter your name: Augustine\n",
      "Augustine\n"
     ]
    }
   ],
   "source": [
    "def make_doctor():\n",
    "    full_name = input(\"Enter your name: \")\n",
    "    return full_name\n",
    "print(make_doctor())"
   ]
  },
  {
   "cell_type": "markdown",
   "metadata": {},
   "source": [
    "# Functions with Multiple Parameters"
   ]
  },
  {
   "cell_type": "code",
   "execution_count": 16,
   "metadata": {},
   "outputs": [
    {
     "name": "stdout",
     "output_type": "stream",
     "text": [
      "SCHEDULE: [1st] Mathematics, [2nd] History\n"
     ]
    }
   ],
   "source": [
    "def make_schedule(period1, period2):\n",
    "    schedule = (\"[1st] \" + period1.title() + \", [2nd] \" + period2.title())\n",
    "    return schedule\n",
    "student_schedule = make_schedule(\"mathematics\", \"history\")\n",
    "print(\"SCHEDULE:\", student_schedule)"
   ]
  },
  {
   "cell_type": "code",
   "execution_count": 17,
   "metadata": {},
   "outputs": [
    {
     "name": "stdout",
     "output_type": "stream",
     "text": [
      "Student: Tobias Ledford\n",
      "Age: 15\n",
      "School: Oak\n"
     ]
    }
   ],
   "source": [
    "def format_info(name, age, school):\n",
    "    return \"Student: \" + name + \"\\nAge: \" + str(age) + \"\\nSchool: \" + school\n",
    "print(format_info(\"Tobias Ledford\", 15, \"Oak\"))"
   ]
  },
  {
   "cell_type": "code",
   "execution_count": 18,
   "metadata": {},
   "outputs": [
    {
     "name": "stdout",
     "output_type": "stream",
     "text": [
      "200\n"
     ]
    }
   ],
   "source": [
    "def add_num(num_1 = 10):\n",
    "    return num_1 + num_1\n",
    "print(add_num(100))"
   ]
  },
  {
   "cell_type": "code",
   "execution_count": 19,
   "metadata": {},
   "outputs": [
    {
     "name": "stdout",
     "output_type": "stream",
     "text": [
      "110\n"
     ]
    }
   ],
   "source": [
    "def add_num(num_1, num_2 = 10):\n",
    "    return num_1 + num_2\n",
    "print(add_num(100))"
   ]
  },
  {
   "cell_type": "code",
   "execution_count": 20,
   "metadata": {},
   "outputs": [
    {
     "name": "stdout",
     "output_type": "stream",
     "text": [
      "return this lower\n"
     ]
    }
   ],
   "source": [
    "def low_case(words_in): \n",
    "    return words_in.lower() \n",
    "words_lower = low_case(\"Return THIS lower\")\n",
    "print(words_lower)"
   ]
  },
  {
   "cell_type": "markdown",
   "metadata": {},
   "source": [
    "# Sequence\n",
    "Objects need to be defined before calling"
   ]
  },
  {
   "cell_type": "code",
   "execution_count": 21,
   "metadata": {},
   "outputs": [
    {
     "name": "stdout",
     "output_type": "stream",
     "text": [
      "Alton\n"
     ]
    }
   ],
   "source": [
    "first_name = \"Alton\"\n",
    "print(first_name)"
   ]
  },
  {
   "cell_type": "code",
   "execution_count": 22,
   "metadata": {
    "collapsed": true
   },
   "outputs": [],
   "source": [
    "def hat_available(color):\n",
    "    hat_colors = 'black, red, green, white, grey, brown, pink'\n",
    "    return(color.lower() in hat_colors)"
   ]
  },
  {
   "cell_type": "code",
   "execution_count": 23,
   "metadata": {},
   "outputs": [
    {
     "name": "stdout",
     "output_type": "stream",
     "text": [
      "hat available is True\n"
     ]
    }
   ],
   "source": [
    "have_hat = hat_available('green')\n",
    "print('hat available is', have_hat)"
   ]
  },
  {
   "cell_type": "markdown",
   "metadata": {},
   "source": [
    "# Program: bird_available\n",
    "The program should ask for user to \"input a bird to check for availability\" and print a statement informing of availability.\n",
    "\n",
    "__Create this program with a Boolean function bird_available()__\n",
    "- Has parameter that takes the name of a type of bird\n",
    "- Variable bird_types = \"crow robin parrot eagle sandpiner hawk piegon\"\n",
    "- return True or False (we are making a Boolean Function)\n",
    "- Call the function using the name of a bird type from user input\n",
    "- Print a sentence that indicates tha availbility of the type of bird checked"
   ]
  },
  {
   "cell_type": "code",
   "execution_count": 24,
   "metadata": {},
   "outputs": [
    {
     "name": "stdout",
     "output_type": "stream",
     "text": [
      "Enter the type of bird to search: EAGLE\n",
      "EAGLE available is True\n"
     ]
    }
   ],
   "source": [
    "def bird_available():\n",
    "    bird_types = \"crow, robin, parrot, eagle, sandpiper, hawk, pigeon\"\n",
    "    return(bird.lower() in bird_types)\n",
    "bird = input(\"Enter the type of bird to search: \")\n",
    "print(bird.upper(), \"available is\", bird_available())"
   ]
  },
  {
   "cell_type": "code",
   "execution_count": 25,
   "metadata": {},
   "outputs": [
    {
     "name": "stdout",
     "output_type": "stream",
     "text": [
      "Enter your name: BOSS\n",
      "Enter a greeting: You good?\n",
      "You good? BOSS\n"
     ]
    }
   ],
   "source": [
    "def make_greeting(name, greeting = \"Hello\"):\n",
    "    return (greeting + \" \" + str(name))\n",
    "get_name = input(\"Enter your name: \")\n",
    "greeting = input(\"Enter a greeting: \")\n",
    "# get name and greeting, send to make_greeting \n",
    "print(make_greeting(get_name, greeting))\n"
   ]
  },
  {
   "cell_type": "code",
   "execution_count": null,
   "metadata": {
    "collapsed": true
   },
   "outputs": [],
   "source": []
  }
 ],
 "metadata": {
  "kernelspec": {
   "display_name": "Python 3",
   "language": "python",
   "name": "python3"
  },
  "language_info": {
   "codemirror_mode": {
    "name": "ipython",
    "version": 3
   },
   "file_extension": ".py",
   "mimetype": "text/x-python",
   "name": "python",
   "nbconvert_exporter": "python",
   "pygments_lexer": "ipython3",
   "version": "3.6.0"
  }
 },
 "nbformat": 4,
 "nbformat_minor": 2
}
